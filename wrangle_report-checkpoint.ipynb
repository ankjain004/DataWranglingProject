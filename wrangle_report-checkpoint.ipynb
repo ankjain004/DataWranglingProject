{
 "cells": [
  {
   "cell_type": "markdown",
   "metadata": {},
   "source": [
    "## Reporting: wragle_report\n",
    "* Create a **300-600 word written report** called \"wrangle_report.pdf\" or \"wrangle_report.html\" that briefly describes your wrangling efforts. This is to be framed as an internal document."
   ]
  },
  {
   "cell_type": "code",
   "execution_count": null,
   "metadata": {},
   "outputs": [],
   "source": [
    "In this Data Wrangle project, we need to gather data for Twitter account \"WeRateDogs\" in various ways. \n",
    "\n",
    "1) Thru Twitter API\n",
    "2) Direct downloaded JSON data file.\n",
    "3) Data using URL request\n",
    "\n",
    "In order to access & download data via twitter API, you need to register with twitter website but since it is not mandtory so i didnt register\n",
    "and used directly download tweet_json.txt file to prepare various dataset like \"Enhanced Twitter Archive\" & \"Twitter archives: retweet count and favorite count\".\n",
    "In order to get \"Image Predictions File\", it is mandatory to use URL request which is simple task and you will get required DataSet.\n",
    "\n",
    "After having 3 datasets/dataframes:\n",
    "\n",
    "\"Enhanced Twitter Archive\" \n",
    "\"Twitter archives: retweet count and favorite count\".\n",
    "\"Image Predictions File\"\n",
    "\n",
    "We need to assess data manually & programatically to find out various data quality and tidyness issue and try to prepare master dataset which will have quality data.\n",
    "After reviewing data, we observed lots of missing data, incomplete or incorrect data which cannot be fixed and really needs lot of efforts,so certain fields like \"Name\", \"Text inforamtion\", acurate image prediction are not considered.\n",
    "Below are few Data quality issues along with untidyness highlights.\n",
    "\n",
    "### Quality issues\n",
    "1. Found rating  value as [84, 70] in (df_tweet_info), which seems to be  wrong rating data. \n",
    "2. In \"df_tweet_info\", column \"rating_denominator\" has value other than 10, which is incorrect denominator. \n",
    "3. In \"df_tweet_info\", column \"name\" has value like a, an, the,none etc. which is incorrect data.\n",
    "4. image_predictions.tsv has wrong name in columns like p1,p2,p3.\n",
    "5. In \"df_tweet_info\" (twitter_archive_enhanced.csv), dog stage is not mentioned all rows and hard to fix as its missing information. \n",
    "6. In DF \"df_tweet_info\"(twitter_archive_enhanced.csv), tweet_text has image URL, Rating Info.\n",
    "7. \"retweeted\": false for all rows but still retweet_count has big numbers so possibly count is for actual no. of tweet.\n",
    "8. \"favorite_count\" column has value even when value in column \"favorited\" is false.\n",
    "9. Rating_Denominator column can be dropped since default denominator value is 10.\n",
    "\n",
    "In above points, inserted data itself look inappropriate and we cannot alter data just like to that so no actions taken.\n",
    "But for point 9, column has been dropped as its well understood that denominator value will be 10 and datatype changesd for few columns.\n",
    "\n",
    "### Tidiness issues\n",
    "1. DF \"df_tweet_info\" (twitter_archive_enhanced.csv) has seperate columns for dog stage.\n",
    "2. Redundant columns in 2 dataframe with same values. In master dataset one of these column will be dropped.\n",
    "   df_tweet_info >> timestamp\n",
    "   df_additional_tweet >> created_at\n",
    "\n",
    "We created function, which read column value 1-by-1 and then used if clause to match with 4 possible value. \n",
    "Whenever it matches with any value, it return to insert into new column.\n",
    "Later we dropped 4 columns and got values in to single column.\n",
    "\n",
    "Similarly 2 dataframes having same column values with different column name so verified data and dropped one of the column.\n",
    "\n",
    "With best of my knowledge, i prepared master dataset and prepare basic data analysis.\n"
   ]
  }
 ],
 "metadata": {
  "kernelspec": {
   "display_name": "Python 3",
   "language": "python",
   "name": "python3"
  },
  "language_info": {
   "codemirror_mode": {
    "name": "ipython",
    "version": 3
   },
   "file_extension": ".py",
   "mimetype": "text/x-python",
   "name": "python",
   "nbconvert_exporter": "python",
   "pygments_lexer": "ipython3",
   "version": "3.6.3"
  }
 },
 "nbformat": 4,
 "nbformat_minor": 2
}
